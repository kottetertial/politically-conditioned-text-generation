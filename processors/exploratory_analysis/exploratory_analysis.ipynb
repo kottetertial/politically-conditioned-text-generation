{
 "cells": [
  {
   "cell_type": "markdown",
   "source": [
    "# Imports"
   ],
   "metadata": {
    "collapsed": false,
    "pycharm": {
     "name": "#%% md\n"
    }
   }
  },
  {
   "cell_type": "code",
   "execution_count": 1,
   "outputs": [],
   "source": [
    "from collections import Counter\n",
    "from typing import List\n",
    "\n",
    "import pandas as pd\n",
    "\n",
    "from constants import Env, TargetPath, SourceName\n",
    "from processors.exploratory_analysis.analysis_constants import Type\n",
    "from processors.exploratory_analysis.analysis_utils import generate_dataset, process_party, extend_list, process_categories, get_frequency_stats"
   ],
   "metadata": {
    "collapsed": false,
    "pycharm": {
     "name": "#%%\n"
    }
   }
  },
  {
   "cell_type": "markdown",
   "source": [
    "# Dataframe Generation and Basic Statistics"
   ],
   "metadata": {
    "collapsed": false,
    "pycharm": {
     "name": "#%% md\n"
    }
   }
  },
  {
   "cell_type": "code",
   "execution_count": 2,
   "outputs": [
    {
     "name": "stdout",
     "output_type": "stream",
     "text": [
      "CPU times: total: 1min 21s\n",
      "Wall time: 9min 51s\n"
     ]
    },
    {
     "data": {
      "text/plain": "                                                 url  \\\n0  https://www.presidency.ucsb.edu/documents/addr...   \n1  https://www.presidency.ucsb.edu/documents/exec...   \n2  https://www.presidency.ucsb.edu/documents/stat...   \n3  https://www.presidency.ucsb.edu/documents/rema...   \n4  https://www.presidency.ucsb.edu/documents/stat...   \n\n                                               title  year  \\\n0  Address to the Democratic National Convention ...  2016   \n1  Executive Order 12082—Armed Forces Promotion a...  1978   \n2  Statement by the President on the Agreements f...  1964   \n3  Remarks by the Vice President at the 2003 Geor...  2003   \n4  Statement on Signing the Reciprocal Trade Agre...  1940   \n\n                        source       party      location  \\\n0  American Presidency Project  Democratic  Pennsylvania   \n1  American Presidency Project  Democratic          None   \n2  American Presidency Project  Democratic          None   \n3  American Presidency Project        None          None   \n4  American Presidency Project  Democratic          None   \n\n                                          categories  \\\n0  [Campaign Documents, Post Presidential Remarks...   \n1  [Written Presidential Orders, Executive Orders...   \n2                         [Presidential, Statements]   \n3  [Spoken Addresses and Remarks, Vice President'...   \n4  [Presidential, Statements, Signing Statements,...   \n\n                                 file_ref  \n0      1 American Presidency Project.json  \n1     10 American Presidency Project.json  \n2    100 American Presidency Project.json  \n3   1000 American Presidency Project.json  \n4  10000 American Presidency Project.json  ",
      "text/html": "<div>\n<style scoped>\n    .dataframe tbody tr th:only-of-type {\n        vertical-align: middle;\n    }\n\n    .dataframe tbody tr th {\n        vertical-align: top;\n    }\n\n    .dataframe thead th {\n        text-align: right;\n    }\n</style>\n<table border=\"1\" class=\"dataframe\">\n  <thead>\n    <tr style=\"text-align: right;\">\n      <th></th>\n      <th>url</th>\n      <th>title</th>\n      <th>year</th>\n      <th>source</th>\n      <th>party</th>\n      <th>location</th>\n      <th>categories</th>\n      <th>file_ref</th>\n    </tr>\n  </thead>\n  <tbody>\n    <tr>\n      <th>0</th>\n      <td>https://www.presidency.ucsb.edu/documents/addr...</td>\n      <td>Address to the Democratic National Convention ...</td>\n      <td>2016</td>\n      <td>American Presidency Project</td>\n      <td>Democratic</td>\n      <td>Pennsylvania</td>\n      <td>[Campaign Documents, Post Presidential Remarks...</td>\n      <td>1 American Presidency Project.json</td>\n    </tr>\n    <tr>\n      <th>1</th>\n      <td>https://www.presidency.ucsb.edu/documents/exec...</td>\n      <td>Executive Order 12082—Armed Forces Promotion a...</td>\n      <td>1978</td>\n      <td>American Presidency Project</td>\n      <td>Democratic</td>\n      <td>None</td>\n      <td>[Written Presidential Orders, Executive Orders...</td>\n      <td>10 American Presidency Project.json</td>\n    </tr>\n    <tr>\n      <th>2</th>\n      <td>https://www.presidency.ucsb.edu/documents/stat...</td>\n      <td>Statement by the President on the Agreements f...</td>\n      <td>1964</td>\n      <td>American Presidency Project</td>\n      <td>Democratic</td>\n      <td>None</td>\n      <td>[Presidential, Statements]</td>\n      <td>100 American Presidency Project.json</td>\n    </tr>\n    <tr>\n      <th>3</th>\n      <td>https://www.presidency.ucsb.edu/documents/rema...</td>\n      <td>Remarks by the Vice President at the 2003 Geor...</td>\n      <td>2003</td>\n      <td>American Presidency Project</td>\n      <td>None</td>\n      <td>None</td>\n      <td>[Spoken Addresses and Remarks, Vice President'...</td>\n      <td>1000 American Presidency Project.json</td>\n    </tr>\n    <tr>\n      <th>4</th>\n      <td>https://www.presidency.ucsb.edu/documents/stat...</td>\n      <td>Statement on Signing the Reciprocal Trade Agre...</td>\n      <td>1940</td>\n      <td>American Presidency Project</td>\n      <td>Democratic</td>\n      <td>None</td>\n      <td>[Presidential, Statements, Signing Statements,...</td>\n      <td>10000 American Presidency Project.json</td>\n    </tr>\n  </tbody>\n</table>\n</div>"
     },
     "execution_count": 2,
     "metadata": {},
     "output_type": "execute_result"
    }
   ],
   "source": [
    "%%time\n",
    "dataframe = pd.DataFrame(generate_dataset(f\"{Env.ROOT_PREFIX}/{TargetPath.DATA}/{TargetPath.DOCUMENTS}\"))\n",
    "dataframe.head()"
   ],
   "metadata": {
    "collapsed": false,
    "pycharm": {
     "name": "#%%\n"
    }
   }
  },
  {
   "cell_type": "code",
   "execution_count": 3,
   "outputs": [],
   "source": [
    "dataframe.drop_duplicates(subset=[dataframe.url.name], inplace=True)"
   ],
   "metadata": {
    "collapsed": false,
    "pycharm": {
     "name": "#%%\n"
    }
   }
  },
  {
   "cell_type": "code",
   "execution_count": 4,
   "outputs": [
    {
     "name": "stdout",
     "output_type": "stream",
     "text": [
      "<class 'pandas.core.frame.DataFrame'>\n",
      "Int64Index: 98903 entries, 0 to 134274\n",
      "Data columns (total 8 columns):\n",
      " #   Column      Non-Null Count  Dtype \n",
      "---  ------      --------------  ----- \n",
      " 0   url         98903 non-null  object\n",
      " 1   title       98903 non-null  object\n",
      " 2   year        98903 non-null  int64 \n",
      " 3   source      98903 non-null  object\n",
      " 4   party       90915 non-null  object\n",
      " 5   location    38718 non-null  object\n",
      " 6   categories  98463 non-null  object\n",
      " 7   file_ref    98903 non-null  object\n",
      "dtypes: int64(1), object(7)\n",
      "memory usage: 6.8+ MB\n"
     ]
    }
   ],
   "source": [
    "dataframe.info()"
   ],
   "metadata": {
    "collapsed": false,
    "pycharm": {
     "name": "#%%\n"
    }
   }
  },
  {
   "cell_type": "markdown",
   "source": [
    "# Data Processing"
   ],
   "metadata": {
    "collapsed": false,
    "pycharm": {
     "name": "#%% md\n"
    }
   }
  },
  {
   "cell_type": "markdown",
   "source": [
    "## Party"
   ],
   "metadata": {
    "collapsed": false,
    "pycharm": {
     "name": "#%% md\n"
    }
   }
  },
  {
   "cell_type": "code",
   "execution_count": 5,
   "outputs": [
    {
     "data": {
      "text/plain": "                                                  url  \\\n0   https://www.presidency.ucsb.edu/documents/addr...   \n1   https://www.presidency.ucsb.edu/documents/exec...   \n2   https://www.presidency.ucsb.edu/documents/stat...   \n4   https://www.presidency.ucsb.edu/documents/stat...   \n6   https://www.presidency.ucsb.edu/documents/mess...   \n7   https://www.presidency.ucsb.edu/documents/stat...   \n8   https://www.presidency.ucsb.edu/documents/proc...   \n9   https://www.presidency.ucsb.edu/documents/pres...   \n10  https://www.presidency.ucsb.edu/documents/mess...   \n11  https://www.presidency.ucsb.edu/documents/memo...   \n\n                                                title  year  \\\n0   Address to the Democratic National Convention ...  2016   \n1   Executive Order 12082—Armed Forces Promotion a...  1978   \n2   Statement by the President on the Agreements f...  1964   \n4   Statement on Signing the Reciprocal Trade Agre...  1940   \n6   Message to the Congress on Continuation of the...  2016   \n7   Statement on the Japan-United States Trade Neg...  1990   \n8   Proclamation 4665—Extension of Temporary Quant...  1979   \n9                      Press Briefing by Mike McCurry  1997   \n10                               Message on Army Day.  1932   \n11  Memorandum on Assistance to the Independent St...  1994   \n\n                         source       party      location  \\\n0   American Presidency Project  Democratic  Pennsylvania   \n1   American Presidency Project  Democratic          None   \n2   American Presidency Project  Democratic          None   \n4   American Presidency Project  Democratic          None   \n6   American Presidency Project  Democratic          None   \n7   American Presidency Project  Republican          None   \n8   American Presidency Project  Democratic          None   \n9   American Presidency Project  Democratic          None   \n10  American Presidency Project  Republican          None   \n11  American Presidency Project  Democratic          None   \n\n                                           categories  \\\n0   [Campaign Documents, Post Presidential Remarks...   \n1   [Written Presidential Orders, Executive Orders...   \n2                          [Presidential, Statements]   \n4   [Presidential, Statements, Signing Statements,...   \n6   [Messages, Written Messages, Presidential, to ...   \n7              [Presidential, Statements, Statements]   \n8   [Written Presidential Orders, Proclamations, P...   \n9                      [Press/Media, Press Briefings]   \n10         [Messages, Written Messages, Presidential]   \n11  [Presidential, Written Presidential Orders, Me...   \n\n                                   file_ref  \n0        1 American Presidency Project.json  \n1       10 American Presidency Project.json  \n2      100 American Presidency Project.json  \n4    10000 American Presidency Project.json  \n6   100001 American Presidency Project.json  \n7   100002 American Presidency Project.json  \n8   100003 American Presidency Project.json  \n9   100004 American Presidency Project.json  \n10  100005 American Presidency Project.json  \n11  100006 American Presidency Project.json  ",
      "text/html": "<div>\n<style scoped>\n    .dataframe tbody tr th:only-of-type {\n        vertical-align: middle;\n    }\n\n    .dataframe tbody tr th {\n        vertical-align: top;\n    }\n\n    .dataframe thead th {\n        text-align: right;\n    }\n</style>\n<table border=\"1\" class=\"dataframe\">\n  <thead>\n    <tr style=\"text-align: right;\">\n      <th></th>\n      <th>url</th>\n      <th>title</th>\n      <th>year</th>\n      <th>source</th>\n      <th>party</th>\n      <th>location</th>\n      <th>categories</th>\n      <th>file_ref</th>\n    </tr>\n  </thead>\n  <tbody>\n    <tr>\n      <th>0</th>\n      <td>https://www.presidency.ucsb.edu/documents/addr...</td>\n      <td>Address to the Democratic National Convention ...</td>\n      <td>2016</td>\n      <td>American Presidency Project</td>\n      <td>Democratic</td>\n      <td>Pennsylvania</td>\n      <td>[Campaign Documents, Post Presidential Remarks...</td>\n      <td>1 American Presidency Project.json</td>\n    </tr>\n    <tr>\n      <th>1</th>\n      <td>https://www.presidency.ucsb.edu/documents/exec...</td>\n      <td>Executive Order 12082—Armed Forces Promotion a...</td>\n      <td>1978</td>\n      <td>American Presidency Project</td>\n      <td>Democratic</td>\n      <td>None</td>\n      <td>[Written Presidential Orders, Executive Orders...</td>\n      <td>10 American Presidency Project.json</td>\n    </tr>\n    <tr>\n      <th>2</th>\n      <td>https://www.presidency.ucsb.edu/documents/stat...</td>\n      <td>Statement by the President on the Agreements f...</td>\n      <td>1964</td>\n      <td>American Presidency Project</td>\n      <td>Democratic</td>\n      <td>None</td>\n      <td>[Presidential, Statements]</td>\n      <td>100 American Presidency Project.json</td>\n    </tr>\n    <tr>\n      <th>4</th>\n      <td>https://www.presidency.ucsb.edu/documents/stat...</td>\n      <td>Statement on Signing the Reciprocal Trade Agre...</td>\n      <td>1940</td>\n      <td>American Presidency Project</td>\n      <td>Democratic</td>\n      <td>None</td>\n      <td>[Presidential, Statements, Signing Statements,...</td>\n      <td>10000 American Presidency Project.json</td>\n    </tr>\n    <tr>\n      <th>6</th>\n      <td>https://www.presidency.ucsb.edu/documents/mess...</td>\n      <td>Message to the Congress on Continuation of the...</td>\n      <td>2016</td>\n      <td>American Presidency Project</td>\n      <td>Democratic</td>\n      <td>None</td>\n      <td>[Messages, Written Messages, Presidential, to ...</td>\n      <td>100001 American Presidency Project.json</td>\n    </tr>\n    <tr>\n      <th>7</th>\n      <td>https://www.presidency.ucsb.edu/documents/stat...</td>\n      <td>Statement on the Japan-United States Trade Neg...</td>\n      <td>1990</td>\n      <td>American Presidency Project</td>\n      <td>Republican</td>\n      <td>None</td>\n      <td>[Presidential, Statements, Statements]</td>\n      <td>100002 American Presidency Project.json</td>\n    </tr>\n    <tr>\n      <th>8</th>\n      <td>https://www.presidency.ucsb.edu/documents/proc...</td>\n      <td>Proclamation 4665—Extension of Temporary Quant...</td>\n      <td>1979</td>\n      <td>American Presidency Project</td>\n      <td>Democratic</td>\n      <td>None</td>\n      <td>[Written Presidential Orders, Proclamations, P...</td>\n      <td>100003 American Presidency Project.json</td>\n    </tr>\n    <tr>\n      <th>9</th>\n      <td>https://www.presidency.ucsb.edu/documents/pres...</td>\n      <td>Press Briefing by Mike McCurry</td>\n      <td>1997</td>\n      <td>American Presidency Project</td>\n      <td>Democratic</td>\n      <td>None</td>\n      <td>[Press/Media, Press Briefings]</td>\n      <td>100004 American Presidency Project.json</td>\n    </tr>\n    <tr>\n      <th>10</th>\n      <td>https://www.presidency.ucsb.edu/documents/mess...</td>\n      <td>Message on Army Day.</td>\n      <td>1932</td>\n      <td>American Presidency Project</td>\n      <td>Republican</td>\n      <td>None</td>\n      <td>[Messages, Written Messages, Presidential]</td>\n      <td>100005 American Presidency Project.json</td>\n    </tr>\n    <tr>\n      <th>11</th>\n      <td>https://www.presidency.ucsb.edu/documents/memo...</td>\n      <td>Memorandum on Assistance to the Independent St...</td>\n      <td>1994</td>\n      <td>American Presidency Project</td>\n      <td>Democratic</td>\n      <td>None</td>\n      <td>[Presidential, Written Presidential Orders, Me...</td>\n      <td>100006 American Presidency Project.json</td>\n    </tr>\n  </tbody>\n</table>\n</div>"
     },
     "execution_count": 5,
     "metadata": {},
     "output_type": "execute_result"
    }
   ],
   "source": [
    "dataframe.dropna(subset=[dataframe.party.name], inplace=True)\n",
    "dataframe.head(10)"
   ],
   "metadata": {
    "collapsed": false,
    "pycharm": {
     "name": "#%%\n"
    }
   }
  },
  {
   "cell_type": "code",
   "execution_count": 6,
   "outputs": [
    {
     "name": "stdout",
     "output_type": "stream",
     "text": [
      "<class 'pandas.core.frame.DataFrame'>\n",
      "Int64Index: 90915 entries, 0 to 134274\n",
      "Data columns (total 8 columns):\n",
      " #   Column      Non-Null Count  Dtype \n",
      "---  ------      --------------  ----- \n",
      " 0   url         90915 non-null  object\n",
      " 1   title       90915 non-null  object\n",
      " 2   year        90915 non-null  int64 \n",
      " 3   source      90915 non-null  object\n",
      " 4   party       90915 non-null  object\n",
      " 5   location    34404 non-null  object\n",
      " 6   categories  90476 non-null  object\n",
      " 7   file_ref    90915 non-null  object\n",
      "dtypes: int64(1), object(7)\n",
      "memory usage: 6.2+ MB\n"
     ]
    }
   ],
   "source": [
    "dataframe.info()"
   ],
   "metadata": {
    "collapsed": false,
    "pycharm": {
     "name": "#%%\n"
    }
   }
  },
  {
   "cell_type": "code",
   "execution_count": 7,
   "outputs": [
    {
     "data": {
      "text/plain": "                                                    Absolute  Normalized\nDemocratic                                             47249    0.519705\nRepublican                                             41463    0.456063\nDemocratic-Republican                                    766    0.008425\nWhig                                                     457    0.005027\nFederalist                                               304    0.003344\nConservative                                             165    0.001815\nLabour                                                   149    0.001639\nLiberal                                                   70    0.000770\nLiberal Democrat                                          65    0.000715\nDemocratic Farmer Labor                                   50    0.000550\nIndependent                                               17    0.000187\nSocialist Party                                           11    0.000121\nMinnesota DemocraticFarmerLabor Party                   10    0.000110\nLabour Party                                              10    0.000110\nChristian Democratic Union                                10    0.000110\nSocial Democratic Party                                    8    0.000088\nUnity Party                                                8    0.000088\nWorkers' Party                                             8    0.000088\nIndependent; Labour Party                                  7    0.000077\nNational Woman's Party                                     6    0.000066\nDemocratic; Green Party                                    6    0.000066\nDemocrat                                                   5    0.000055\nLakas - Kampi - CMD                                        5    0.000055\nNorwegian Labor Party                                      5    0.000055\nPakistan Peoples Party                                     5    0.000055\nSri Lanka Freedom Party                                    4    0.000044\nMapai Party; Alignment Party; Labour parties               4    0.000044\nDemocrat, then Republican                                  4    0.000044\nEqual Rights Party                                         3    0.000033\nSDP-Liberal Alliance                                       3    0.000033\nIndian National Congress                                   3    0.000033\nUNIDO; PDP-Laban                                           3    0.000033\nProgressive Conservative Party                             3    0.000033\nHromada; All-Ukrainian Union \"Fatherland\"; Yuli...         3    0.000033\nBangladesh Awami League Grand Alliance                     3    0.000033\nNational Party                                             3    0.000033\nUPA - INC                                                  3    0.000033\nPeople's Progressive Party                                 2    0.000022\nNational Front                                             2    0.000022\nPeople's Partnership                                       2    0.000022\nNational Liberation Party                                  2    0.000022\nLiberation Front                                           2    0.000022\nJusticialist                                               1    0.000011\nBangladesh Nationalist Party; Four Party Alliance          1    0.000011\nNew Progressive Party and Republican Party                 1    0.000011\nSlovak Democratic and Christian Union-Democrati...         1    0.000011\nNew Alliance Party                                         1    0.000011\nCentre Party                                               1    0.000011\nCroatian Democratic Union                                  1    0.000011",
      "text/html": "<div>\n<style scoped>\n    .dataframe tbody tr th:only-of-type {\n        vertical-align: middle;\n    }\n\n    .dataframe tbody tr th {\n        vertical-align: top;\n    }\n\n    .dataframe thead th {\n        text-align: right;\n    }\n</style>\n<table border=\"1\" class=\"dataframe\">\n  <thead>\n    <tr style=\"text-align: right;\">\n      <th></th>\n      <th>Absolute</th>\n      <th>Normalized</th>\n    </tr>\n  </thead>\n  <tbody>\n    <tr>\n      <th>Democratic</th>\n      <td>47249</td>\n      <td>0.519705</td>\n    </tr>\n    <tr>\n      <th>Republican</th>\n      <td>41463</td>\n      <td>0.456063</td>\n    </tr>\n    <tr>\n      <th>Democratic-Republican</th>\n      <td>766</td>\n      <td>0.008425</td>\n    </tr>\n    <tr>\n      <th>Whig</th>\n      <td>457</td>\n      <td>0.005027</td>\n    </tr>\n    <tr>\n      <th>Federalist</th>\n      <td>304</td>\n      <td>0.003344</td>\n    </tr>\n    <tr>\n      <th>Conservative</th>\n      <td>165</td>\n      <td>0.001815</td>\n    </tr>\n    <tr>\n      <th>Labour</th>\n      <td>149</td>\n      <td>0.001639</td>\n    </tr>\n    <tr>\n      <th>Liberal</th>\n      <td>70</td>\n      <td>0.000770</td>\n    </tr>\n    <tr>\n      <th>Liberal Democrat</th>\n      <td>65</td>\n      <td>0.000715</td>\n    </tr>\n    <tr>\n      <th>Democratic Farmer Labor</th>\n      <td>50</td>\n      <td>0.000550</td>\n    </tr>\n    <tr>\n      <th>Independent</th>\n      <td>17</td>\n      <td>0.000187</td>\n    </tr>\n    <tr>\n      <th>Socialist Party</th>\n      <td>11</td>\n      <td>0.000121</td>\n    </tr>\n    <tr>\n      <th>Minnesota DemocraticFarmerLabor Party</th>\n      <td>10</td>\n      <td>0.000110</td>\n    </tr>\n    <tr>\n      <th>Labour Party</th>\n      <td>10</td>\n      <td>0.000110</td>\n    </tr>\n    <tr>\n      <th>Christian Democratic Union</th>\n      <td>10</td>\n      <td>0.000110</td>\n    </tr>\n    <tr>\n      <th>Social Democratic Party</th>\n      <td>8</td>\n      <td>0.000088</td>\n    </tr>\n    <tr>\n      <th>Unity Party</th>\n      <td>8</td>\n      <td>0.000088</td>\n    </tr>\n    <tr>\n      <th>Workers' Party</th>\n      <td>8</td>\n      <td>0.000088</td>\n    </tr>\n    <tr>\n      <th>Independent; Labour Party</th>\n      <td>7</td>\n      <td>0.000077</td>\n    </tr>\n    <tr>\n      <th>National Woman's Party</th>\n      <td>6</td>\n      <td>0.000066</td>\n    </tr>\n    <tr>\n      <th>Democratic; Green Party</th>\n      <td>6</td>\n      <td>0.000066</td>\n    </tr>\n    <tr>\n      <th>Democrat</th>\n      <td>5</td>\n      <td>0.000055</td>\n    </tr>\n    <tr>\n      <th>Lakas - Kampi - CMD</th>\n      <td>5</td>\n      <td>0.000055</td>\n    </tr>\n    <tr>\n      <th>Norwegian Labor Party</th>\n      <td>5</td>\n      <td>0.000055</td>\n    </tr>\n    <tr>\n      <th>Pakistan Peoples Party</th>\n      <td>5</td>\n      <td>0.000055</td>\n    </tr>\n    <tr>\n      <th>Sri Lanka Freedom Party</th>\n      <td>4</td>\n      <td>0.000044</td>\n    </tr>\n    <tr>\n      <th>Mapai Party; Alignment Party; Labour parties</th>\n      <td>4</td>\n      <td>0.000044</td>\n    </tr>\n    <tr>\n      <th>Democrat, then Republican</th>\n      <td>4</td>\n      <td>0.000044</td>\n    </tr>\n    <tr>\n      <th>Equal Rights Party</th>\n      <td>3</td>\n      <td>0.000033</td>\n    </tr>\n    <tr>\n      <th>SDP-Liberal Alliance</th>\n      <td>3</td>\n      <td>0.000033</td>\n    </tr>\n    <tr>\n      <th>Indian National Congress</th>\n      <td>3</td>\n      <td>0.000033</td>\n    </tr>\n    <tr>\n      <th>UNIDO; PDP-Laban</th>\n      <td>3</td>\n      <td>0.000033</td>\n    </tr>\n    <tr>\n      <th>Progressive Conservative Party</th>\n      <td>3</td>\n      <td>0.000033</td>\n    </tr>\n    <tr>\n      <th>Hromada; All-Ukrainian Union \"Fatherland\"; Yulia Tymoshenko Bloc</th>\n      <td>3</td>\n      <td>0.000033</td>\n    </tr>\n    <tr>\n      <th>Bangladesh Awami League Grand Alliance</th>\n      <td>3</td>\n      <td>0.000033</td>\n    </tr>\n    <tr>\n      <th>National Party</th>\n      <td>3</td>\n      <td>0.000033</td>\n    </tr>\n    <tr>\n      <th>UPA - INC</th>\n      <td>3</td>\n      <td>0.000033</td>\n    </tr>\n    <tr>\n      <th>People's Progressive Party</th>\n      <td>2</td>\n      <td>0.000022</td>\n    </tr>\n    <tr>\n      <th>National Front</th>\n      <td>2</td>\n      <td>0.000022</td>\n    </tr>\n    <tr>\n      <th>People's Partnership</th>\n      <td>2</td>\n      <td>0.000022</td>\n    </tr>\n    <tr>\n      <th>National Liberation Party</th>\n      <td>2</td>\n      <td>0.000022</td>\n    </tr>\n    <tr>\n      <th>Liberation Front</th>\n      <td>2</td>\n      <td>0.000022</td>\n    </tr>\n    <tr>\n      <th>Justicialist</th>\n      <td>1</td>\n      <td>0.000011</td>\n    </tr>\n    <tr>\n      <th>Bangladesh Nationalist Party; Four Party Alliance</th>\n      <td>1</td>\n      <td>0.000011</td>\n    </tr>\n    <tr>\n      <th>New Progressive Party and Republican Party</th>\n      <td>1</td>\n      <td>0.000011</td>\n    </tr>\n    <tr>\n      <th>Slovak Democratic and Christian Union-Democratic Party</th>\n      <td>1</td>\n      <td>0.000011</td>\n    </tr>\n    <tr>\n      <th>New Alliance Party</th>\n      <td>1</td>\n      <td>0.000011</td>\n    </tr>\n    <tr>\n      <th>Centre Party</th>\n      <td>1</td>\n      <td>0.000011</td>\n    </tr>\n    <tr>\n      <th>Croatian Democratic Union</th>\n      <td>1</td>\n      <td>0.000011</td>\n    </tr>\n  </tbody>\n</table>\n</div>"
     },
     "execution_count": 7,
     "metadata": {},
     "output_type": "execute_result"
    }
   ],
   "source": [
    "get_frequency_stats(dataframe.party)"
   ],
   "metadata": {
    "collapsed": false,
    "pycharm": {
     "name": "#%%\n"
    }
   }
  },
  {
   "cell_type": "code",
   "execution_count": 8,
   "outputs": [
    {
     "data": {
      "text/plain": "49"
     },
     "execution_count": 8,
     "metadata": {},
     "output_type": "execute_result"
    }
   ],
   "source": [
    "len(dataframe.party.value_counts())"
   ],
   "metadata": {
    "collapsed": false,
    "pycharm": {
     "name": "#%%\n"
    }
   }
  },
  {
   "cell_type": "code",
   "execution_count": 9,
   "outputs": [
    {
     "name": "stdout",
     "output_type": "stream",
     "text": [
      "<class 'pandas.core.frame.DataFrame'>\n",
      "Int64Index: 89871 entries, 0 to 134274\n",
      "Data columns (total 8 columns):\n",
      " #   Column      Non-Null Count  Dtype \n",
      "---  ------      --------------  ----- \n",
      " 0   url         89871 non-null  object\n",
      " 1   title       89871 non-null  object\n",
      " 2   year        89871 non-null  int64 \n",
      " 3   source      89871 non-null  object\n",
      " 4   party       89871 non-null  object\n",
      " 5   location    34160 non-null  object\n",
      " 6   categories  89581 non-null  object\n",
      " 7   file_ref    89871 non-null  object\n",
      "dtypes: int64(1), object(7)\n",
      "memory usage: 6.2+ MB\n"
     ]
    }
   ],
   "source": [
    "dataframe.party = dataframe.party.apply(process_party)\n",
    "dataframe.dropna(subset=[dataframe.party.name], inplace=True)\n",
    "dataframe.info()"
   ],
   "metadata": {
    "collapsed": false,
    "pycharm": {
     "name": "#%%\n"
    }
   }
  },
  {
   "cell_type": "code",
   "execution_count": 10,
   "outputs": [
    {
     "data": {
      "text/plain": "              Absolute  Normalized\nLiberal          47478    0.528291\nConservative     42393    0.471709",
      "text/html": "<div>\n<style scoped>\n    .dataframe tbody tr th:only-of-type {\n        vertical-align: middle;\n    }\n\n    .dataframe tbody tr th {\n        vertical-align: top;\n    }\n\n    .dataframe thead th {\n        text-align: right;\n    }\n</style>\n<table border=\"1\" class=\"dataframe\">\n  <thead>\n    <tr style=\"text-align: right;\">\n      <th></th>\n      <th>Absolute</th>\n      <th>Normalized</th>\n    </tr>\n  </thead>\n  <tbody>\n    <tr>\n      <th>Liberal</th>\n      <td>47478</td>\n      <td>0.528291</td>\n    </tr>\n    <tr>\n      <th>Conservative</th>\n      <td>42393</td>\n      <td>0.471709</td>\n    </tr>\n  </tbody>\n</table>\n</div>"
     },
     "execution_count": 10,
     "metadata": {},
     "output_type": "execute_result"
    }
   ],
   "source": [
    "get_frequency_stats(dataframe.party)"
   ],
   "metadata": {
    "collapsed": false,
    "pycharm": {
     "name": "#%%\n"
    }
   }
  },
  {
   "cell_type": "markdown",
   "source": [
    "## Categories"
   ],
   "metadata": {
    "collapsed": false,
    "pycharm": {
     "name": "#%% md\n"
    }
   }
  },
  {
   "cell_type": "code",
   "execution_count": 11,
   "outputs": [
    {
     "data": {
      "text/plain": "Counter({'Campaign Documents': 3417,\n         'Post Presidential Remarks': 10,\n         'Convention Speeches': 41,\n         'Written Presidential Orders': 16089,\n         'Executive Orders': 12655,\n         'Presidential': 77314,\n         'Statements': 13655,\n         'Signing Statements': 2143,\n         'Bill Signing': 2874,\n         'Messages': 10428,\n         'Written Messages': 11043,\n         'to Congress': 11187,\n         'Proclamations': 8645,\n         'Press/Media': 7048,\n         'Press Briefings': 3590,\n         'Memoranda': 3120,\n         'Determinations': 2223,\n         'Miscellaneous Remarks': 15396,\n         'Proclamation': 726,\n         'Spoken Addresses and Remarks': 13159,\n         'Foreign Actors or Audiences': 1127,\n         'Exchange with Reporters': 3530,\n         'Informal': 2454,\n         'Letters': 4609,\n         'Citations and Awards': 775,\n         'Budget': 73,\n         'Vetoes': 888,\n         'Pocket Veto': 264,\n         'Veto': 893,\n         'Elections and Transitions': 2283,\n         'Transition Documents': 660,\n         'Swearing-in': 368,\n         'Miscellaneous Written': 841,\n         'Notices': 623,\n         'Saturday Weekly Addresses (Radio and Webcast)': 1636,\n         'Oral Address': 629,\n         'Commencements': 173,\n         'Town Hall/Discussion/Q&A': 903,\n         'State Dinners': 959,\n         'Toasts': 969,\n         'signing': 84,\n         'Presidential Candidates': 2833,\n         'Veto Threats': 3,\n         'News Conferences': 2481,\n         'Conferences': 2144,\n         'Major to Nation': 258,\n         'Treaties and Agreements': 77,\n         'Interviews': 954,\n         'Legislatures': 108,\n         'Joint': 2978,\n         'Religious/Cultural Holiday': 849,\n         'Death': 1028,\n         'Campaign Rally': 300,\n         'Inaugural Addresses': 54,\n         'Inaugural': 54,\n         \"Vice President's Remarks\": 252,\n         'Vice-Presidents': 267,\n         'Nominations / Appointments': 319,\n         'State of the Union Messages': 109,\n         'Party Fundraiser': 236,\n         'Congressional': 30,\n         'Radio': 301,\n         'State Governors': 102,\n         'Memorial Day': 171,\n         'President-elect': 227,\n         'Press Releases': 119,\n         'Senate': 5,\n         'Fireside Chats': 27,\n         'Eulogies': 62,\n         'Bill Vetos': 59,\n         'UN General': 53,\n         'Vice Presidential Candidates': 5,\n         'Appointments': 39,\n         'Directives': 32,\n         'Resignations': 473,\n         'Press Office': 374,\n         'to Congress - Economic Report': 82,\n         'Nomination Acceptance': 51,\n         'Articles': 39,\n         'National Prayer Breakfast': 64,\n         'Farewell Address': 11,\n         'Farewell': 10,\n         'International': 52,\n         'Political Party': 6,\n         'Telephone Conversation': 56,\n         'State of the Union Addresses': 98,\n         \"Vice President's Press Secretary\": 21,\n         'Miscellaneous Press Secretary': 45,\n         'Election': 95,\n         'Victory Speeches': 25,\n         \"Correspondents' Association\": 34,\n         'Sequestration Orders': 11,\n         'Vice President': 13,\n         'Designations': 163,\n         'Concessions': 21,\n         'Retirements': 12,\n         'Political ads': 2834,\n         'Web exclusive': 362,\n         'Tv': 2398,\n         'Campaign speech': 374,\n         'Speeches': 1902,\n         'Press conference': 95,\n         'Acceptance speech': 34,\n         'Victory speech': 65,\n         'Interview': 44,\n         'Keynote address': 163,\n         'Announcement speech': 30,\n         'Resignation speech': 3,\n         'Commencement address': 172,\n         'Floor speech - u.s. senate': 88,\n         'Concession speech': 18,\n         'Lecture': 33,\n         'Floor speech - u.s. house': 222,\n         'U.s. house committee/subcommittee meeting': 35,\n         'U.s. senate committee/subcommittee meeting': 17,\n         'State of city': 2,\n         'Inaugural address': 37,\n         'Debate': 7,\n         'State of state': 36,\n         'Eulogy': 18,\n         'Uncategorized': 1,\n         'Radio address': 2,\n         'Floor speech - state legislature': 2,\n         'Presidential Nomination Acceptance Addresses': 7,\n         'Disaster/Emergency Declaration': 9,\n         'Campaign Fundraiser': 130,\n         'Television': 8,\n         'Debates': 19,\n         'Presidential Permit': 9,\n         'Historical Documents and Reports': 3,\n         'Responses to Questions': 53,\n         'Farewell Addresses': 3,\n         'Economic Report of the President': 1,\n         'Accepting Resignations': 295,\n         'Memo of Understanding': 2,\n         'Other Administration Officials': 31,\n         'Presidential Nomination Acceptance Addresses Losing Nominees': 5,\n         'Nominations Submitted to the Senate': 1})"
     },
     "execution_count": 11,
     "metadata": {},
     "output_type": "execute_result"
    }
   ],
   "source": [
    "categories_lst: List[str] = []\n",
    "dataframe.loc[dataframe.categories.notna()].categories.apply(extend_list, args=(categories_lst,))\n",
    "categories_counter: Counter = Counter(categories_lst)\n",
    "categories_counter"
   ],
   "metadata": {
    "collapsed": false,
    "pycharm": {
     "name": "#%%\n"
    }
   }
  },
  {
   "cell_type": "code",
   "execution_count": 12,
   "outputs": [
    {
     "data": {
      "text/plain": "[('Presidential', 77314),\n ('Written Presidential Orders', 16089),\n ('Miscellaneous Remarks', 15396),\n ('Statements', 13655),\n ('Spoken Addresses and Remarks', 13159),\n ('Executive Orders', 12655),\n ('to Congress', 11187),\n ('Written Messages', 11043),\n ('Messages', 10428),\n ('Proclamations', 8645)]"
     },
     "execution_count": 12,
     "metadata": {},
     "output_type": "execute_result"
    }
   ],
   "source": [
    "categories_counter.most_common(10)"
   ],
   "metadata": {
    "collapsed": false,
    "pycharm": {
     "name": "#%%\n"
    }
   }
  },
  {
   "cell_type": "code",
   "execution_count": 13,
   "outputs": [
    {
     "data": {
      "text/plain": "138"
     },
     "execution_count": 13,
     "metadata": {},
     "output_type": "execute_result"
    }
   ],
   "source": [
    "len(categories_counter.keys())"
   ],
   "metadata": {
    "collapsed": false,
    "pycharm": {
     "name": "#%%\n"
    }
   }
  },
  {
   "cell_type": "code",
   "execution_count": 14,
   "outputs": [
    {
     "name": "stdout",
     "output_type": "stream",
     "text": [
      "<class 'pandas.core.frame.DataFrame'>\n",
      "Int64Index: 89871 entries, 0 to 134274\n",
      "Data columns (total 9 columns):\n",
      " #   Column      Non-Null Count  Dtype \n",
      "---  ------      --------------  ----- \n",
      " 0   url         89871 non-null  object\n",
      " 1   title       89871 non-null  object\n",
      " 2   year        89871 non-null  int64 \n",
      " 3   source      89871 non-null  object\n",
      " 4   party       89871 non-null  object\n",
      " 5   location    34160 non-null  object\n",
      " 6   categories  89581 non-null  object\n",
      " 7   file_ref    89871 non-null  object\n",
      " 8   type        0 non-null      object\n",
      "dtypes: int64(1), object(8)\n",
      "memory usage: 6.9+ MB\n"
     ]
    }
   ],
   "source": [
    "dataframe[\"type\"] = pd.Series(dtype=object)\n",
    "dataframe.info()"
   ],
   "metadata": {
    "collapsed": false,
    "pycharm": {
     "name": "#%%\n"
    }
   }
  },
  {
   "cell_type": "code",
   "execution_count": 15,
   "outputs": [],
   "source": [
    "dataframe.type = dataframe.categories.apply(process_categories)"
   ],
   "metadata": {
    "collapsed": false,
    "pycharm": {
     "name": "#%%\n"
    }
   }
  },
  {
   "cell_type": "code",
   "execution_count": 16,
   "outputs": [
    {
     "data": {
      "text/plain": "British Political Speech           239\nConservative Party Manifestos       26\nLiberal, SDP, Libdem Manifestos     25\nName: source, dtype: int64"
     },
     "execution_count": 16,
     "metadata": {},
     "output_type": "execute_result"
    }
   ],
   "source": [
    "dataframe.loc[dataframe.categories.isna()].source.value_counts()"
   ],
   "metadata": {
    "collapsed": false,
    "pycharm": {
     "name": "#%%\n"
    }
   }
  },
  {
   "cell_type": "code",
   "execution_count": 17,
   "outputs": [],
   "source": [
    "dataframe.loc[dataframe.source == SourceName.LIBERAL_MANIFESTOS, dataframe.type.name] = Type.WRITTEN\n",
    "dataframe.loc[dataframe.source == SourceName.CONSERVATIVE_MANIFESTOS, dataframe.type.name] = Type.WRITTEN\n",
    "dataframe.loc[dataframe.source == SourceName.BRITISH_POLITICAL_SPEECH, dataframe.type.name] = Type.SPOKEN"
   ],
   "metadata": {
    "collapsed": false,
    "pycharm": {
     "name": "#%%\n"
    }
   }
  },
  {
   "cell_type": "code",
   "execution_count": 18,
   "outputs": [
    {
     "data": {
      "text/plain": "           Absolute  Normalized\nWritten       50260    0.559246\nSpoken        29066    0.323419\nAmbiguous     10545    0.117335",
      "text/html": "<div>\n<style scoped>\n    .dataframe tbody tr th:only-of-type {\n        vertical-align: middle;\n    }\n\n    .dataframe tbody tr th {\n        vertical-align: top;\n    }\n\n    .dataframe thead th {\n        text-align: right;\n    }\n</style>\n<table border=\"1\" class=\"dataframe\">\n  <thead>\n    <tr style=\"text-align: right;\">\n      <th></th>\n      <th>Absolute</th>\n      <th>Normalized</th>\n    </tr>\n  </thead>\n  <tbody>\n    <tr>\n      <th>Written</th>\n      <td>50260</td>\n      <td>0.559246</td>\n    </tr>\n    <tr>\n      <th>Spoken</th>\n      <td>29066</td>\n      <td>0.323419</td>\n    </tr>\n    <tr>\n      <th>Ambiguous</th>\n      <td>10545</td>\n      <td>0.117335</td>\n    </tr>\n  </tbody>\n</table>\n</div>"
     },
     "execution_count": 18,
     "metadata": {},
     "output_type": "execute_result"
    }
   ],
   "source": [
    "get_frequency_stats(dataframe.type)"
   ],
   "metadata": {
    "collapsed": false,
    "pycharm": {
     "name": "#%%\n"
    }
   }
  },
  {
   "cell_type": "markdown",
   "source": [
    "## Year"
   ],
   "metadata": {
    "collapsed": false,
    "pycharm": {
     "name": "#%% md\n"
    }
   }
  },
  {
   "cell_type": "code",
   "execution_count": 19,
   "outputs": [
    {
     "data": {
      "text/plain": "1789"
     },
     "execution_count": 19,
     "metadata": {},
     "output_type": "execute_result"
    }
   ],
   "source": [
    "dataframe.year.min()"
   ],
   "metadata": {
    "collapsed": false,
    "pycharm": {
     "name": "#%%\n"
    }
   }
  },
  {
   "cell_type": "code",
   "execution_count": 20,
   "outputs": [
    {
     "data": {
      "text/plain": "2022"
     },
     "execution_count": 20,
     "metadata": {},
     "output_type": "execute_result"
    }
   ],
   "source": [
    "dataframe.year.max()"
   ],
   "metadata": {
    "collapsed": false,
    "pycharm": {
     "name": "#%%\n"
    }
   }
  },
  {
   "cell_type": "code",
   "execution_count": 21,
   "outputs": [
    {
     "data": {
      "text/plain": "count    89871.000000\nmean      1979.930389\nstd         38.898645\nmin       1789.000000\n25%       1965.000000\n50%       1992.000000\n75%       2007.000000\nmax       2022.000000\nName: year, dtype: float64"
     },
     "execution_count": 21,
     "metadata": {},
     "output_type": "execute_result"
    }
   ],
   "source": [
    "dataframe.year.describe()"
   ],
   "metadata": {
    "collapsed": false,
    "pycharm": {
     "name": "#%%\n"
    }
   }
  },
  {
   "cell_type": "code",
   "execution_count": 22,
   "outputs": [
    {
     "data": {
      "text/plain": "array([[<AxesSubplot:title={'center':'year'}>]], dtype=object)"
     },
     "execution_count": 22,
     "metadata": {},
     "output_type": "execute_result"
    },
    {
     "data": {
      "text/plain": "<Figure size 1152x576 with 1 Axes>",
      "image/png": "[encoded data removed]"
     },
     "metadata": {
      "needs_background": "light"
     },
     "output_type": "display_data"
    }
   ],
   "source": [
    "dataframe.hist(column=dataframe.year.name, bins=50, figsize=(16, 8), xlabelsize=14, ylabelsize=14, color=\"black\")"
   ],
   "metadata": {
    "collapsed": false,
    "pycharm": {
     "name": "#%%\n"
    }
   }
  },
  {
   "cell_type": "markdown",
   "source": [
    "## Location"
   ],
   "metadata": {
    "collapsed": false,
    "pycharm": {
     "name": "#%% md\n"
    }
   }
  },
  {
   "cell_type": "code",
   "execution_count": 23,
   "outputs": [
    {
     "data": {
      "text/plain": "Washington, DC                                                     18459\nCalifornia                                                          1027\nNew York                                                            1015\nTexas                                                                727\nVirginia                                                             651\n                                                                   ...  \nSt. Olaf College, Northfield, Minnesota                                1\nBloom Island, Minnesota                                                1\nSheboygan, Wisconsin                                                   1\nUCLA Center for Health Policy Research, Los Angeles, California        1\nMoldova                                                                1\nName: location, Length: 695, dtype: int64"
     },
     "execution_count": 23,
     "metadata": {},
     "output_type": "execute_result"
    }
   ],
   "source": [
    "dataframe.location.value_counts()  # TODO: create a map"
   ],
   "metadata": {
    "collapsed": false,
    "pycharm": {
     "name": "#%%\n"
    }
   }
  },
  {
   "cell_type": "markdown",
   "source": [
    "# Save the Result"
   ],
   "metadata": {
    "collapsed": false,
    "pycharm": {
     "name": "#%% md\n"
    }
   }
  },
  {
   "cell_type": "code",
   "execution_count": 24,
   "outputs": [
    {
     "name": "stdout",
     "output_type": "stream",
     "text": [
      "<class 'pandas.core.frame.DataFrame'>\n",
      "Int64Index: 89871 entries, 0 to 134274\n",
      "Data columns (total 9 columns):\n",
      " #   Column      Non-Null Count  Dtype \n",
      "---  ------      --------------  ----- \n",
      " 0   url         89871 non-null  object\n",
      " 1   title       89871 non-null  object\n",
      " 2   year        89871 non-null  int64 \n",
      " 3   source      89871 non-null  object\n",
      " 4   party       89871 non-null  object\n",
      " 5   location    34160 non-null  object\n",
      " 6   categories  89581 non-null  object\n",
      " 7   file_ref    89871 non-null  object\n",
      " 8   type        89871 non-null  object\n",
      "dtypes: int64(1), object(8)\n",
      "memory usage: 6.9+ MB\n"
     ]
    }
   ],
   "source": [
    "dataframe.info()"
   ],
   "metadata": {
    "collapsed": false,
    "pycharm": {
     "name": "#%%\n"
    }
   }
  },
  {
   "cell_type": "code",
   "execution_count": 25,
   "outputs": [],
   "source": [
    "dataframe.to_csv(f\"{Env.ROOT_PREFIX}/{TargetPath.DATA}/meta_exploratory.csv\", index=False)"
   ],
   "metadata": {
    "collapsed": false,
    "pycharm": {
     "name": "#%%\n"
    }
   }
  }
 ],
 "metadata": {
  "kernelspec": {
   "display_name": "Python 3",
   "language": "python",
   "name": "python3"
  },
  "language_info": {
   "codemirror_mode": {
    "name": "ipython",
    "version": 2
   },
   "file_extension": ".py",
   "mimetype": "text/x-python",
   "name": "python",
   "nbconvert_exporter": "python",
   "pygments_lexer": "ipython2",
   "version": "2.7.6"
  }
 },
 "nbformat": 4,
 "nbformat_minor": 0
}